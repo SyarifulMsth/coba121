{
  "nbformat": 4,
  "nbformat_minor": 0,
  "metadata": {
    "colab": {
      "provenance": [],
      "gpuType": "T4",
      "authorship_tag": "ABX9TyPpWuA6iKpniXj2NTfQ73kl",
      "include_colab_link": true
    },
    "kernelspec": {
      "name": "python3",
      "display_name": "Python 3"
    },
    "language_info": {
      "name": "python"
    },
    "accelerator": "GPU"
  },
  "cells": [
    {
      "cell_type": "markdown",
      "metadata": {
        "id": "view-in-github",
        "colab_type": "text"
      },
      "source": [
        "<a href=\"https://colab.research.google.com/github/SyarifulMsth/predictive-analytics/blob/main/Predicting_Diamond_Prices.ipynb\" target=\"_parent\"><img src=\"https://colab.research.google.com/assets/colab-badge.svg\" alt=\"Open In Colab\"/></a>"
      ]
    },
    {
      "cell_type": "markdown",
      "source": [
        "# Predictive Analytics Portfolio Project: Case Study of Diamond Price Prediction💎"
      ],
      "metadata": {
        "id": "kAc8R5ZGXI5S"
      }
    },
    {
      "cell_type": "markdown",
      "source": [
        "## Predictive Analytics Lifecycle (CRISP-DM):\n",
        "- Business Understanding\n",
        "- Data understanding\n",
        "- Data preparation\n",
        "- Modeling\n",
        "- Evaluation\n",
        "- Deployment\n"
      ],
      "metadata": {
        "id": "lPRXs4u7XUPP"
      }
    },
    {
      "cell_type": "markdown",
      "source": [
        "### Business Understanding"
      ],
      "metadata": {
        "id": "8H3PBRb4XVot"
      }
    },
    {
      "cell_type": "markdown",
      "source": [
        "Saya bekerja di sebuah perusahaan yang bergerak di bidang jual-beli diamonds (berlian). Model bisnis perusahaan tersebut adalah distributor dan retail, perusahaan membeli diamonds dari produsen kemudian menjualnya kepada konsumen. Perusahaan juga menerima penjualan kembali diamonds dari konsumen. Untuk efisiensi, perusahaan ingin menerapkan automasi pada sistem dalam memprediksi harga diamonds dengan teknik predictive modelling.\n",
        "\n",
        "\n",
        "Perusahaan akan mengembangkan sebuah sistem prediksi harga diamonds untuk menjawab permasalahan berikut.\n",
        "\n",
        "Dari serangkaian fitur yang ada, fitur apa yang paling berpengaruh terhadap harga diamonds? Berapa harga pasar diamonds dengan karakteristik atau fitur tertentu?\n",
        "Untuk menjawab pertanyaan tersebut, maka diperlukan predictive modelling dengan tujuan atau goals sebagai berikut:\n",
        "\n",
        "- Mengetahui fitur yang paling berkorelasi dengan harga diamonds.\n",
        "- Membuat model machine learning yang dapat memprediksi harga diamonds seakurat mungkin berdasarkan fitur-fitur yang ada.\n"
      ],
      "metadata": {
        "id": "SaM7ogpxXxHC"
      }
    },
    {
      "cell_type": "markdown",
      "source": [
        "### Data Understanding"
      ],
      "metadata": {
        "id": "4jw1goiXX_8A"
      }
    },
    {
      "cell_type": "code",
      "source": [
        "# Data loading\n",
        "import numpy as np\n",
        "import matplotlib.pyplot as plt\n",
        "import pandas as pd\n",
        "%matplotlib inline\n",
        "import seaborn as sns\n"
      ],
      "metadata": {
        "id": "5qizmgbjYHti"
      },
      "execution_count": null,
      "outputs": []
    },
    {
      "cell_type": "code",
      "source": [
        "# load the dataset\n",
        "url = 'https://raw.githubusercontent.com/tidyverse/ggplot2/master/data-raw/diamonds.csv'\n",
        "diamonds = pd.read_csv(url)\n",
        "diamonds"
      ],
      "metadata": {
        "id": "mCcs7GJGYLoB"
      },
      "execution_count": null,
      "outputs": []
    },
    {
      "cell_type": "markdown",
      "source": [
        "### Data Preparation"
      ],
      "metadata": {
        "id": "Zp_BFp1uYBbE"
      }
    },
    {
      "cell_type": "code",
      "source": [],
      "metadata": {
        "id": "yiPiigb6YCx9"
      },
      "execution_count": null,
      "outputs": []
    }
  ]
}